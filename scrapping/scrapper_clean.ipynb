{
 "cells": [
  {
   "cell_type": "code",
   "execution_count": 1,
   "metadata": {
    "ExecuteTime": {
     "end_time": "2021-04-19T11:12:11.623829Z",
     "start_time": "2021-04-19T11:12:11.620486Z"
    }
   },
   "outputs": [],
   "source": [
    "# !pip install webdriver-manager"
   ]
  },
  {
   "cell_type": "code",
   "execution_count": 2,
   "metadata": {
    "ExecuteTime": {
     "end_time": "2021-04-19T11:12:17.118546Z",
     "start_time": "2021-04-19T11:12:15.401273Z"
    }
   },
   "outputs": [],
   "source": [
    "from selenium import webdriver\n",
    "from selenium.webdriver.common.keys import Keys\n",
    "from webdriver_manager.chrome import ChromeDriverManager\n",
    "from selenium.webdriver.chrome.options import Options  # for suppressing the browser\n",
    "from selenium.webdriver.common.by import By\n",
    "from selenium.webdriver.support.ui import WebDriverWait\n",
    "from selenium.webdriver.support import expected_conditions as EC\n",
    "from bs4 import BeautifulSoup\n",
    "import re\n",
    "import pandas as pd\n",
    "import os\n",
    "import time\n",
    "import numpy as np\n",
    "import matplotlib.pyplot as plt\n",
    "import seaborn as sns"
   ]
  },
  {
   "cell_type": "markdown",
   "metadata": {},
   "source": [
    "### Scrapping data for Robusta coffee species "
   ]
  },
  {
   "cell_type": "code",
   "execution_count": 3,
   "metadata": {
    "ExecuteTime": {
     "end_time": "2021-04-19T11:12:19.215445Z",
     "start_time": "2021-04-19T11:12:19.200307Z"
    }
   },
   "outputs": [],
   "source": [
    "cleaned_robusta_df = pd.read_csv('robusta_data_cleaned.csv')"
   ]
  },
  {
   "cell_type": "markdown",
   "metadata": {},
   "source": [
    "#### Extract all the rows"
   ]
  },
  {
   "cell_type": "code",
   "execution_count": 4,
   "metadata": {
    "ExecuteTime": {
     "end_time": "2021-04-19T11:12:54.533833Z",
     "start_time": "2021-04-19T11:12:28.682480Z"
    }
   },
   "outputs": [
    {
     "name": "stderr",
     "output_type": "stream",
     "text": [
      "\n",
      "\n",
      "====== WebDriver manager ======\n",
      "Current google-chrome version is 89.0.4389\n",
      "Get LATEST driver version for 89.0.4389\n",
      "Driver [/Users/david/.wdm/drivers/chromedriver/mac64/89.0.4389.23/chromedriver] found in cache\n"
     ]
    }
   ],
   "source": [
    "url = 'https://database.coffeeinstitute.org/coffees/robusta'\n",
    "\n",
    "option = webdriver.ChromeOptions()\n",
    "option.add_argument('headless') # use webdriver without opening the browser window\n",
    "driver = webdriver.Chrome(ChromeDriverManager().install(), options=option)\n",
    "\n",
    "driver.implicitly_wait(30)\n",
    "driver.get(url)\n",
    "time.sleep(8)"
   ]
  },
  {
   "cell_type": "code",
   "execution_count": 5,
   "metadata": {
    "ExecuteTime": {
     "end_time": "2021-04-19T11:13:00.094299Z",
     "start_time": "2021-04-19T11:13:00.068126Z"
    }
   },
   "outputs": [],
   "source": [
    "robusta_main = BeautifulSoup(driver.page_source, 'lxml') \n",
    "rows = robusta_main.find_all('tr', class_=['odd','even']) # extract odd and even rows from the table"
   ]
  },
  {
   "cell_type": "markdown",
   "metadata": {},
   "source": [
    "#### Extract the url content for each sample"
   ]
  },
  {
   "cell_type": "code",
   "execution_count": 27,
   "metadata": {
    "ExecuteTime": {
     "end_time": "2021-04-19T11:36:24.075129Z",
     "start_time": "2021-04-19T11:36:24.068702Z"
    }
   },
   "outputs": [
    {
     "name": "stdout",
     "output_type": "stream",
     "text": [
      "['https://database.coffeeinstitute.org/coffee/722152', 'https://database.coffeeinstitute.org/coffee/758792', 'https://database.coffeeinstitute.org/coffee/805984']\n"
     ]
    }
   ],
   "source": [
    "root_url = 'https://database.coffeeinstitute.org'\n",
    "links = [root_url + row.find('a')['href'] for row in rows] # extract the link for each row in the database\n",
    "robusta_df = pd.DataFrame() # initialize df to store all records\n",
    "print(links[:3])"
   ]
  },
  {
   "cell_type": "markdown",
   "metadata": {},
   "source": [
    "#### Store the information of each sample in a DataFrame"
   ]
  },
  {
   "cell_type": "code",
   "execution_count": 28,
   "metadata": {
    "ExecuteTime": {
     "end_time": "2021-04-19T11:37:20.850410Z",
     "start_time": "2021-04-19T11:36:33.613889Z"
    }
   },
   "outputs": [],
   "source": [
    "for link in links:\n",
    "    driver.implicitly_wait(10)\n",
    "    driver.get(link)\n",
    "    # Wait until the element with TAG_NAME 'tr' has been loaded\n",
    "    element = WebDriverWait(driver, 10).until(\n",
    "        EC.presence_of_element_located((By.TAG_NAME, \"tr\"))\n",
    "    )\n",
    "    \n",
    "    info = BeautifulSoup(driver.page_source, 'lxml')\n",
    "    robusta_dic = {}\n",
    "    \n",
    "    for i in range(1,len(info.find_all('table'))):\n",
    "        # find all 'th' the headers of the table\n",
    "        table1 = info.find_all('table')[i].find_all('th')\n",
    "        table_keys = [x.get_text() for x in table1]\n",
    "        # find all the data of each header\n",
    "        table2 = info.find_all('table')[i].find_all('td')\n",
    "        table_values = [x.get_text() if x.get_text() != '' else np.nan for x in table2]\n",
    "\n",
    "        tmp_dic = dict(zip(table_keys, table_values))\n",
    "        robusta_dic.update(tmp_dic) # update dictionary with the information for robusta species\n",
    "\n",
    "    df = pd.DataFrame(robusta_dic, index=[0]) # add index=[0] because the values are scalars (not in a list)\n",
    "    robusta_df = pd.concat([robusta_df,df], ignore_index=True, sort=False)\n",
    "    time.sleep(5)\n",
    "\n",
    "# quit the driver\n",
    "# driver.quit()"
   ]
  },
  {
   "cell_type": "code",
   "execution_count": 30,
   "metadata": {
    "ExecuteTime": {
     "end_time": "2021-04-19T11:43:50.522572Z",
     "start_time": "2021-04-19T11:43:50.487867Z"
    }
   },
   "outputs": [
    {
     "data": {
      "text/html": [
       "<div>\n",
       "<style scoped>\n",
       "    .dataframe tbody tr th:only-of-type {\n",
       "        vertical-align: middle;\n",
       "    }\n",
       "\n",
       "    .dataframe tbody tr th {\n",
       "        vertical-align: top;\n",
       "    }\n",
       "\n",
       "    .dataframe thead th {\n",
       "        text-align: right;\n",
       "    }\n",
       "</style>\n",
       "<table border=\"1\" class=\"dataframe\">\n",
       "  <thead>\n",
       "    <tr style=\"text-align: right;\">\n",
       "      <th></th>\n",
       "      <th>Country of Origin</th>\n",
       "      <th>Number of Bags</th>\n",
       "      <th>Farm Name</th>\n",
       "      <th>Bag Weight</th>\n",
       "      <th>Lot Number</th>\n",
       "      <th>In-Country Partner</th>\n",
       "      <th>Mill</th>\n",
       "      <th>Harvest Year</th>\n",
       "      <th>ICO Number</th>\n",
       "      <th>Grading Date</th>\n",
       "      <th>...</th>\n",
       "      <th>Moisture</th>\n",
       "      <th>Color</th>\n",
       "      <th>Category One Defects</th>\n",
       "      <th>Category Two Defects</th>\n",
       "      <th>Quakers</th>\n",
       "      <th></th>\n",
       "      <th>Expiration</th>\n",
       "      <th>Certification Body</th>\n",
       "      <th>Certification Address</th>\n",
       "      <th>Certification Contact</th>\n",
       "    </tr>\n",
       "  </thead>\n",
       "  <tbody>\n",
       "    <tr>\n",
       "      <th>0</th>\n",
       "      <td>India</td>\n",
       "      <td>100</td>\n",
       "      <td>Sethuraman Estate</td>\n",
       "      <td>60 kg</td>\n",
       "      <td>Lot No 22</td>\n",
       "      <td>NKG Quality Service (a division of Bernhard Ro...</td>\n",
       "      <td>Kaapi Royale</td>\n",
       "      <td>2020</td>\n",
       "      <td>14/1148/2020/11</td>\n",
       "      <td>August 20th, 2020</td>\n",
       "      <td>...</td>\n",
       "      <td>12 %</td>\n",
       "      <td>Green</td>\n",
       "      <td>0 full defects</td>\n",
       "      <td>0 full defects</td>\n",
       "      <td>0</td>\n",
       "      <td>NaN</td>\n",
       "      <td>August 20th, 2021</td>\n",
       "      <td>NKG Quality Service (a division of Bernhard Ro...</td>\n",
       "      <td>Bahnhofstrasse 22 6300 Zug, Switzerland</td>\n",
       "      <td>Gloria Pedroza - +41417287296</td>\n",
       "    </tr>\n",
       "    <tr>\n",
       "      <th>1</th>\n",
       "      <td>Mexico</td>\n",
       "      <td>320</td>\n",
       "      <td>n/a</td>\n",
       "      <td>60 kg</td>\n",
       "      <td>1540038</td>\n",
       "      <td>NKG Quality Service (a division of Bernhard Ro...</td>\n",
       "      <td>AMSA - ECOM</td>\n",
       "      <td>2019</td>\n",
       "      <td>016-2222-0409</td>\n",
       "      <td>November 3rd, 2020</td>\n",
       "      <td>...</td>\n",
       "      <td>10 %</td>\n",
       "      <td>Yellow-Green</td>\n",
       "      <td>1 full defects</td>\n",
       "      <td>7 full defects</td>\n",
       "      <td>3</td>\n",
       "      <td>NaN</td>\n",
       "      <td>November 3rd, 2021</td>\n",
       "      <td>NKG Quality Service (a division of Bernhard Ro...</td>\n",
       "      <td>Bahnhofstrasse 22 6300 Zug, Switzerland</td>\n",
       "      <td>Gloria Pedroza - +41417287296</td>\n",
       "    </tr>\n",
       "    <tr>\n",
       "      <th>2</th>\n",
       "      <td>India</td>\n",
       "      <td>170</td>\n",
       "      <td>Sethuraman Estate</td>\n",
       "      <td>60 kg</td>\n",
       "      <td>27</td>\n",
       "      <td>NKG Quality Service (a division of Bernhard Ro...</td>\n",
       "      <td>Kaapi Royale</td>\n",
       "      <td>2020</td>\n",
       "      <td>14/1148/2020/12</td>\n",
       "      <td>August 20th, 2020</td>\n",
       "      <td>...</td>\n",
       "      <td>12 %</td>\n",
       "      <td>Green</td>\n",
       "      <td>0 full defects</td>\n",
       "      <td>0 full defects</td>\n",
       "      <td>0</td>\n",
       "      <td>NaN</td>\n",
       "      <td>August 20th, 2021</td>\n",
       "      <td>NKG Quality Service (a division of Bernhard Ro...</td>\n",
       "      <td>Bahnhofstrasse 22 6300 Zug, Switzerland</td>\n",
       "      <td>Gloria Pedroza - +41417287296</td>\n",
       "    </tr>\n",
       "  </tbody>\n",
       "</table>\n",
       "<p>3 rows × 40 columns</p>\n",
       "</div>"
      ],
      "text/plain": [
       "  Country of Origin Number of Bags           Farm Name Bag Weight Lot Number  \\\n",
       "0             India            100  Sethuraman Estate       60 kg  Lot No 22   \n",
       "1            Mexico            320                 n/a      60 kg    1540038   \n",
       "2             India            170  Sethuraman Estate       60 kg         27   \n",
       "\n",
       "                                  In-Country Partner           Mill  \\\n",
       "0  NKG Quality Service (a division of Bernhard Ro...  Kaapi Royale    \n",
       "1  NKG Quality Service (a division of Bernhard Ro...    AMSA - ECOM   \n",
       "2  NKG Quality Service (a division of Bernhard Ro...  Kaapi Royale    \n",
       "\n",
       "  Harvest Year       ICO Number        Grading Date  ... Moisture  \\\n",
       "0         2020  14/1148/2020/11   August 20th, 2020  ...     12 %   \n",
       "1         2019    016-2222-0409  November 3rd, 2020  ...     10 %   \n",
       "2         2020  14/1148/2020/12   August 20th, 2020  ...     12 %   \n",
       "\n",
       "           Color Category One Defects Category Two Defects Quakers      \\\n",
       "0         Green        0 full defects       0 full defects       0 NaN   \n",
       "1  Yellow-Green        1 full defects       7 full defects       3 NaN   \n",
       "2         Green        0 full defects       0 full defects       0 NaN   \n",
       "\n",
       "           Expiration                                 Certification Body  \\\n",
       "0   August 20th, 2021  NKG Quality Service (a division of Bernhard Ro...   \n",
       "1  November 3rd, 2021  NKG Quality Service (a division of Bernhard Ro...   \n",
       "2   August 20th, 2021  NKG Quality Service (a division of Bernhard Ro...   \n",
       "\n",
       "                      Certification Address          Certification Contact  \n",
       "0  Bahnhofstrasse 22 6300 Zug, Switzerland   Gloria Pedroza - +41417287296  \n",
       "1  Bahnhofstrasse 22 6300 Zug, Switzerland   Gloria Pedroza - +41417287296  \n",
       "2  Bahnhofstrasse 22 6300 Zug, Switzerland   Gloria Pedroza - +41417287296  \n",
       "\n",
       "[3 rows x 40 columns]"
      ]
     },
     "execution_count": 30,
     "metadata": {},
     "output_type": "execute_result"
    }
   ],
   "source": [
    "robusta_df.head(3)"
   ]
  },
  {
   "cell_type": "markdown",
   "metadata": {},
   "source": [
    "### Scrapping data for Arabica coffee species"
   ]
  },
  {
   "cell_type": "code",
   "execution_count": 31,
   "metadata": {
    "ExecuteTime": {
     "end_time": "2021-04-19T11:44:25.450810Z",
     "start_time": "2021-04-19T11:44:25.414957Z"
    }
   },
   "outputs": [],
   "source": [
    "cleaned_arabica_df = pd.read_csv('arabica_data_cleaned.csv')"
   ]
  },
  {
   "cell_type": "markdown",
   "metadata": {},
   "source": [
    "#### Extract all the rows from different pages"
   ]
  },
  {
   "cell_type": "code",
   "execution_count": 32,
   "metadata": {
    "ExecuteTime": {
     "end_time": "2021-04-19T11:45:25.386503Z",
     "start_time": "2021-04-19T11:44:53.204192Z"
    }
   },
   "outputs": [
    {
     "name": "stderr",
     "output_type": "stream",
     "text": [
      "\n",
      "\n",
      "====== WebDriver manager ======\n",
      "Current google-chrome version is 89.0.4389\n",
      "Get LATEST driver version for 89.0.4389\n",
      "Driver [/Users/david/.wdm/drivers/chromedriver/mac64/89.0.4389.23/chromedriver] found in cache\n"
     ]
    }
   ],
   "source": [
    "url = 'https://database.coffeeinstitute.org/coffees/arabica'\n",
    "\n",
    "option = webdriver.ChromeOptions()\n",
    "option.add_argument('headless')\n",
    "driver = webdriver.Chrome(ChromeDriverManager().install(), options=option)\n",
    "\n",
    "driver.implicitly_wait(30)\n",
    "driver.get(url)\n",
    "time.sleep(8)\n",
    "\n",
    "arabica_main = BeautifulSoup(driver.page_source, 'lxml') \n",
    "rows = arabica_main.find_all('tr', class_=['odd','even']) # extract odd and even rows from the table\n",
    "\n",
    "while len(arabica_main.find_all('a',class_='paginate_button next disabled')) < 1:\n",
    "    page_buttons = driver.find_elements_by_class_name('paginate_button')\n",
    "    page_buttons[-1].click() # click next\n",
    "    time.sleep(6)\n",
    "    arabica_main = BeautifulSoup(driver.page_source, 'lxml') # get arabica_main for next page\n",
    "    rows += arabica_main.find_all('tr', class_=['odd','even']) # add new rows"
   ]
  },
  {
   "cell_type": "markdown",
   "metadata": {},
   "source": [
    "#### Extract the url content for each sample"
   ]
  },
  {
   "cell_type": "code",
   "execution_count": 33,
   "metadata": {
    "ExecuteTime": {
     "end_time": "2021-04-19T11:45:31.730554Z",
     "start_time": "2021-04-19T11:45:31.719683Z"
    }
   },
   "outputs": [
    {
     "name": "stdout",
     "output_type": "stream",
     "text": [
      "['https://database.coffeeinstitute.org/coffee/813284', 'https://database.coffeeinstitute.org/coffee/564165', 'https://database.coffeeinstitute.org/coffee/799551']\n"
     ]
    }
   ],
   "source": [
    "root_url = 'https://database.coffeeinstitute.org'\n",
    "links = [root_url + row.find('a')['href'] for row in rows] # extract the link for each row in the database\n",
    "arabica_df = pd.DataFrame() # initialize df to store all records\n",
    "print(links[-3:])"
   ]
  },
  {
   "cell_type": "markdown",
   "metadata": {},
   "source": [
    "#### Store the information for each sample in a DataFrame"
   ]
  },
  {
   "cell_type": "code",
   "execution_count": 34,
   "metadata": {
    "ExecuteTime": {
     "end_time": "2021-04-19T11:57:57.546322Z",
     "start_time": "2021-04-19T11:45:37.921676Z"
    }
   },
   "outputs": [],
   "source": [
    "for link in links:\n",
    "    driver.implicitly_wait(10)\n",
    "    driver.get(link)\n",
    "    # Wait until the element with TAG_NAME 'tr' has been loaded\n",
    "    element = WebDriverWait(driver, 10).until(\n",
    "        EC.presence_of_element_located((By.TAG_NAME, \"tr\"))\n",
    "    )\n",
    "    \n",
    "    info = BeautifulSoup(driver.page_source, 'lxml')\n",
    "    arabica_dic = {}\n",
    "    \n",
    "    for i in range(1,len(info.find_all('table'))):\n",
    "        # find all 'th' the headers of the table\n",
    "        table1 = info.find_all('table')[i].find_all('th')\n",
    "        table_keys = [x.get_text() for x in table1]\n",
    "        # find all the data of each header\n",
    "        table2 = info.find_all('table')[i].find_all('td')\n",
    "        table_values = [x.get_text() if x.get_text() != '' else np.nan for x in table2]\n",
    "\n",
    "        tmp_dic = dict(zip(table_keys, table_values))\n",
    "        arabica_dic.update(tmp_dic) # update dictionary with the information for arabica species\n",
    "\n",
    "    df = pd.DataFrame(arabica_dic, index=[0]) # add index=[0] because the values are scalars (not in a list)\n",
    "    arabica_df = pd.concat([arabica_df,df], ignore_index=True, sort=False)\n",
    "    time.sleep(4)\n",
    "\n",
    "# quit the driver\n",
    "# driver.quit()"
   ]
  },
  {
   "cell_type": "code",
   "execution_count": 39,
   "metadata": {
    "ExecuteTime": {
     "end_time": "2021-04-19T13:10:56.054399Z",
     "start_time": "2021-04-19T13:10:56.023959Z"
    }
   },
   "outputs": [
    {
     "data": {
      "text/html": [
       "<div>\n",
       "<style scoped>\n",
       "    .dataframe tbody tr th:only-of-type {\n",
       "        vertical-align: middle;\n",
       "    }\n",
       "\n",
       "    .dataframe tbody tr th {\n",
       "        vertical-align: top;\n",
       "    }\n",
       "\n",
       "    .dataframe thead th {\n",
       "        text-align: right;\n",
       "    }\n",
       "</style>\n",
       "<table border=\"1\" class=\"dataframe\">\n",
       "  <thead>\n",
       "    <tr style=\"text-align: right;\">\n",
       "      <th></th>\n",
       "      <th>Country of Origin</th>\n",
       "      <th>Number of Bags</th>\n",
       "      <th>Farm Name</th>\n",
       "      <th>Bag Weight</th>\n",
       "      <th>Lot Number</th>\n",
       "      <th>In-Country Partner</th>\n",
       "      <th>Mill</th>\n",
       "      <th>Harvest Year</th>\n",
       "      <th>ICO Number</th>\n",
       "      <th>Grading Date</th>\n",
       "      <th>...</th>\n",
       "      <th>Moisture</th>\n",
       "      <th>Color</th>\n",
       "      <th>Category One Defects</th>\n",
       "      <th>Category Two Defects</th>\n",
       "      <th>Quakers</th>\n",
       "      <th></th>\n",
       "      <th>Expiration</th>\n",
       "      <th>Certification Body</th>\n",
       "      <th>Certification Address</th>\n",
       "      <th>Certification Contact</th>\n",
       "    </tr>\n",
       "  </thead>\n",
       "  <tbody>\n",
       "    <tr>\n",
       "      <th>0</th>\n",
       "      <td>Taiwan</td>\n",
       "      <td>3</td>\n",
       "      <td>嵩岳咖啡莊園</td>\n",
       "      <td>60 kg</td>\n",
       "      <td>202004</td>\n",
       "      <td>NKG Quality Service (a division of Bernhard Ro...</td>\n",
       "      <td>嵩岳咖啡莊園</td>\n",
       "      <td>2020</td>\n",
       "      <td>NaN</td>\n",
       "      <td>September 1st, 2020</td>\n",
       "      <td>...</td>\n",
       "      <td>11 %</td>\n",
       "      <td>None</td>\n",
       "      <td>0 full defects</td>\n",
       "      <td>0 full defects</td>\n",
       "      <td>0</td>\n",
       "      <td>NaN</td>\n",
       "      <td>September 1st, 2021</td>\n",
       "      <td>NKG Quality Service (a division of Bernhard Ro...</td>\n",
       "      <td>Bahnhofstrasse 22 6300 Zug, Switzerland</td>\n",
       "      <td>Gloria Pedroza - +41417287296</td>\n",
       "    </tr>\n",
       "    <tr>\n",
       "      <th>1</th>\n",
       "      <td>Kenya</td>\n",
       "      <td>320</td>\n",
       "      <td>N/A</td>\n",
       "      <td>69 kg</td>\n",
       "      <td>1542247</td>\n",
       "      <td>NKG Quality Service (a division of Bernhard Ro...</td>\n",
       "      <td>Tylor Winch</td>\n",
       "      <td>2019</td>\n",
       "      <td>037-1673-5107</td>\n",
       "      <td>October 30th, 2020</td>\n",
       "      <td>...</td>\n",
       "      <td>11 %</td>\n",
       "      <td>Green</td>\n",
       "      <td>0 full defects</td>\n",
       "      <td>1 full defects</td>\n",
       "      <td>0</td>\n",
       "      <td>NaN</td>\n",
       "      <td>October 30th, 2021</td>\n",
       "      <td>NKG Quality Service (a division of Bernhard Ro...</td>\n",
       "      <td>Bahnhofstrasse 22 6300 Zug, Switzerland</td>\n",
       "      <td>Gloria Pedroza - +41417287296</td>\n",
       "    </tr>\n",
       "    <tr>\n",
       "      <th>2</th>\n",
       "      <td>Ethiopia</td>\n",
       "      <td>37</td>\n",
       "      <td>Honey Drip</td>\n",
       "      <td>20 kg</td>\n",
       "      <td>1</td>\n",
       "      <td>Japan Coffee Exchange</td>\n",
       "      <td>non</td>\n",
       "      <td>2020</td>\n",
       "      <td>NaN</td>\n",
       "      <td>July 14th, 2020</td>\n",
       "      <td>...</td>\n",
       "      <td>11 %</td>\n",
       "      <td>Green</td>\n",
       "      <td>0 full defects</td>\n",
       "      <td>4 full defects</td>\n",
       "      <td>3</td>\n",
       "      <td>NaN</td>\n",
       "      <td>July 14th, 2021</td>\n",
       "      <td>Japan Coffee Exchange</td>\n",
       "      <td>〒413-0002 静岡県熱海市伊豆山１１７３−５８　　　　　　　　 1173-58 Izu...</td>\n",
       "      <td>松澤　宏樹　Koju Matsuzawa - +81(0)9085642901</td>\n",
       "    </tr>\n",
       "  </tbody>\n",
       "</table>\n",
       "<p>3 rows × 40 columns</p>\n",
       "</div>"
      ],
      "text/plain": [
       "  Country of Origin Number of Bags   Farm Name Bag Weight Lot Number  \\\n",
       "0            Taiwan              3      嵩岳咖啡莊園      60 kg     202004   \n",
       "1             Kenya            320         N/A      69 kg    1542247   \n",
       "2          Ethiopia             37  Honey Drip      20 kg          1   \n",
       "\n",
       "                                  In-Country Partner         Mill  \\\n",
       "0  NKG Quality Service (a division of Bernhard Ro...       嵩岳咖啡莊園   \n",
       "1  NKG Quality Service (a division of Bernhard Ro...  Tylor Winch   \n",
       "2                             Japan Coffee Exchange           non   \n",
       "\n",
       "  Harvest Year     ICO Number         Grading Date  ... Moisture   Color  \\\n",
       "0         2020            NaN  September 1st, 2020  ...     11 %   None    \n",
       "1         2019  037-1673-5107   October 30th, 2020  ...     11 %  Green    \n",
       "2         2020            NaN      July 14th, 2020  ...     11 %  Green    \n",
       "\n",
       "  Category One Defects Category Two Defects Quakers               Expiration  \\\n",
       "0       0 full defects       0 full defects       0 NaN  September 1st, 2021   \n",
       "1       0 full defects       1 full defects       0 NaN   October 30th, 2021   \n",
       "2       0 full defects       4 full defects       3 NaN      July 14th, 2021   \n",
       "\n",
       "                                  Certification Body  \\\n",
       "0  NKG Quality Service (a division of Bernhard Ro...   \n",
       "1  NKG Quality Service (a division of Bernhard Ro...   \n",
       "2                             Japan Coffee Exchange    \n",
       "\n",
       "                               Certification Address  \\\n",
       "0           Bahnhofstrasse 22 6300 Zug, Switzerland    \n",
       "1           Bahnhofstrasse 22 6300 Zug, Switzerland    \n",
       "2  〒413-0002 静岡県熱海市伊豆山１１７３−５８　　　　　　　　 1173-58 Izu...   \n",
       "\n",
       "                     Certification Contact  \n",
       "0            Gloria Pedroza - +41417287296  \n",
       "1            Gloria Pedroza - +41417287296  \n",
       "2  松澤　宏樹　Koju Matsuzawa - +81(0)9085642901  \n",
       "\n",
       "[3 rows x 40 columns]"
      ]
     },
     "execution_count": 39,
     "metadata": {},
     "output_type": "execute_result"
    }
   ],
   "source": [
    "arabica_df.head(3)"
   ]
  },
  {
   "cell_type": "markdown",
   "metadata": {},
   "source": [
    "### Cleaning"
   ]
  },
  {
   "cell_type": "code",
   "execution_count": 343,
   "metadata": {
    "ExecuteTime": {
     "end_time": "2021-04-24T01:32:43.066146Z",
     "start_time": "2021-04-24T01:32:43.039444Z"
    }
   },
   "outputs": [],
   "source": [
    "# Drop empty column (after Quaker)\n",
    "arabica_df.drop('', axis=1, inplace=True)\n",
    "robusta_df.drop('', axis=1, inplace=True)"
   ]
  },
  {
   "cell_type": "code",
   "execution_count": 370,
   "metadata": {
    "ExecuteTime": {
     "end_time": "2021-04-24T02:41:14.470433Z",
     "start_time": "2021-04-24T02:41:14.459534Z"
    }
   },
   "outputs": [],
   "source": [
    "# Change the names of the columns to match the format of the cleaned datasets\n",
    "new_names = []\n",
    "for col in arabica_df.columns:\n",
    "    new_names.append(col.replace(' ','.').replace('-','.'))\n",
    "    \n",
    "arabica_df.columns = new_names\n",
    "robusta_df.columns = new_names"
   ]
  },
  {
   "cell_type": "code",
   "execution_count": 374,
   "metadata": {
    "ExecuteTime": {
     "end_time": "2021-04-24T02:46:45.134316Z",
     "start_time": "2021-04-24T02:46:45.101171Z"
    }
   },
   "outputs": [],
   "source": [
    "# Store the raw data\n",
    "arabica_df.to_csv('arabica_raw.csv', index=False)\n",
    "robusta_df.to_csv('robusta_raw.csv', index=False)"
   ]
  },
  {
   "cell_type": "code",
   "execution_count": 390,
   "metadata": {
    "ExecuteTime": {
     "end_time": "2021-04-24T03:01:28.225693Z",
     "start_time": "2021-04-24T03:01:28.192705Z"
    }
   },
   "outputs": [],
   "source": [
    "# arabica_df = pd.read_csv('arabica_raw.csv')\n",
    "# robusta_df = pd.read_csv('robusta_raw.csv')"
   ]
  },
  {
   "cell_type": "code",
   "execution_count": 391,
   "metadata": {
    "ExecuteTime": {
     "end_time": "2021-04-24T03:01:34.090347Z",
     "start_time": "2021-04-24T03:01:34.064346Z"
    }
   },
   "outputs": [],
   "source": [
    "# Region, Owner, Company, Farm.Name and Mill to lower\n",
    "cols_lower = ['Region', 'Owner', 'Company', 'Farm.Name', 'Mill']\n",
    "for col in cols_lower:\n",
    "    arabica_df.loc[:,col] = arabica_df.loc[:,col].str.lower()\n",
    "    robusta_df.loc[:,col] = robusta_df.loc[:,col].str.lower()"
   ]
  },
  {
   "cell_type": "code",
   "execution_count": 392,
   "metadata": {
    "ExecuteTime": {
     "end_time": "2021-04-24T03:01:39.924458Z",
     "start_time": "2021-04-24T03:01:39.889910Z"
    }
   },
   "outputs": [
    {
     "data": {
      "text/html": [
       "<div>\n",
       "<style scoped>\n",
       "    .dataframe tbody tr th:only-of-type {\n",
       "        vertical-align: middle;\n",
       "    }\n",
       "\n",
       "    .dataframe tbody tr th {\n",
       "        vertical-align: top;\n",
       "    }\n",
       "\n",
       "    .dataframe thead th {\n",
       "        text-align: right;\n",
       "    }\n",
       "</style>\n",
       "<table border=\"1\" class=\"dataframe\">\n",
       "  <thead>\n",
       "    <tr style=\"text-align: right;\">\n",
       "      <th></th>\n",
       "      <th>Unnamed: 0</th>\n",
       "      <th>Country.of.Origin</th>\n",
       "      <th>Number.of.Bags</th>\n",
       "      <th>Farm.Name</th>\n",
       "      <th>Bag.Weight</th>\n",
       "      <th>Lot.Number</th>\n",
       "      <th>In.Country.Partner</th>\n",
       "      <th>Mill</th>\n",
       "      <th>Harvest.Year</th>\n",
       "      <th>ICO.Number</th>\n",
       "      <th>...</th>\n",
       "      <th>Moisture</th>\n",
       "      <th>Color</th>\n",
       "      <th>Category.One.Defects</th>\n",
       "      <th>Category.Two.Defects</th>\n",
       "      <th>Quakers</th>\n",
       "      <th>Expiration</th>\n",
       "      <th>Certification.Body</th>\n",
       "      <th>Certification.Address</th>\n",
       "      <th>Certification.Contact</th>\n",
       "      <th>Species</th>\n",
       "    </tr>\n",
       "  </thead>\n",
       "  <tbody>\n",
       "    <tr>\n",
       "      <th>0</th>\n",
       "      <td>1313</td>\n",
       "      <td>Taiwan</td>\n",
       "      <td>3</td>\n",
       "      <td>嵩岳咖啡莊園</td>\n",
       "      <td>60 kg</td>\n",
       "      <td>202004</td>\n",
       "      <td>NKG Quality Service (a division of Bernhard Ro...</td>\n",
       "      <td>嵩岳咖啡莊園</td>\n",
       "      <td>2020</td>\n",
       "      <td>NaN</td>\n",
       "      <td>...</td>\n",
       "      <td>11 %</td>\n",
       "      <td>None</td>\n",
       "      <td>0 full defects</td>\n",
       "      <td>0 full defects</td>\n",
       "      <td>0</td>\n",
       "      <td>September 1st, 2021</td>\n",
       "      <td>NKG Quality Service (a division of Bernhard Ro...</td>\n",
       "      <td>Bahnhofstrasse 22 6300 Zug, Switzerland</td>\n",
       "      <td>Gloria Pedroza - +41417287296</td>\n",
       "      <td>Arabica</td>\n",
       "    </tr>\n",
       "    <tr>\n",
       "      <th>1</th>\n",
       "      <td>1314</td>\n",
       "      <td>Kenya</td>\n",
       "      <td>320</td>\n",
       "      <td>NaN</td>\n",
       "      <td>69 kg</td>\n",
       "      <td>1542247</td>\n",
       "      <td>NKG Quality Service (a division of Bernhard Ro...</td>\n",
       "      <td>tylor winch</td>\n",
       "      <td>2019</td>\n",
       "      <td>037-1673-5107</td>\n",
       "      <td>...</td>\n",
       "      <td>11 %</td>\n",
       "      <td>Green</td>\n",
       "      <td>0 full defects</td>\n",
       "      <td>1 full defects</td>\n",
       "      <td>0</td>\n",
       "      <td>October 30th, 2021</td>\n",
       "      <td>NKG Quality Service (a division of Bernhard Ro...</td>\n",
       "      <td>Bahnhofstrasse 22 6300 Zug, Switzerland</td>\n",
       "      <td>Gloria Pedroza - +41417287296</td>\n",
       "      <td>Arabica</td>\n",
       "    </tr>\n",
       "    <tr>\n",
       "      <th>2</th>\n",
       "      <td>1315</td>\n",
       "      <td>Ethiopia</td>\n",
       "      <td>37</td>\n",
       "      <td>honey drip</td>\n",
       "      <td>20 kg</td>\n",
       "      <td>1</td>\n",
       "      <td>Japan Coffee Exchange</td>\n",
       "      <td>non</td>\n",
       "      <td>2020</td>\n",
       "      <td>NaN</td>\n",
       "      <td>...</td>\n",
       "      <td>11 %</td>\n",
       "      <td>Green</td>\n",
       "      <td>0 full defects</td>\n",
       "      <td>4 full defects</td>\n",
       "      <td>3</td>\n",
       "      <td>July 14th, 2021</td>\n",
       "      <td>Japan Coffee Exchange</td>\n",
       "      <td>〒413-0002 静岡県熱海市伊豆山１１７３−５８　　　　　　　　 1173-58 Izu...</td>\n",
       "      <td>松澤　宏樹　Koju Matsuzawa - +81(0)9085642901</td>\n",
       "      <td>Arabica</td>\n",
       "    </tr>\n",
       "  </tbody>\n",
       "</table>\n",
       "<p>3 rows × 41 columns</p>\n",
       "</div>"
      ],
      "text/plain": [
       "   Unnamed: 0 Country.of.Origin  Number.of.Bags   Farm.Name Bag.Weight  \\\n",
       "0        1313            Taiwan               3      嵩岳咖啡莊園      60 kg   \n",
       "1        1314             Kenya             320         NaN      69 kg   \n",
       "2        1315          Ethiopia              37  honey drip      20 kg   \n",
       "\n",
       "  Lot.Number                                 In.Country.Partner         Mill  \\\n",
       "0     202004  NKG Quality Service (a division of Bernhard Ro...       嵩岳咖啡莊園   \n",
       "1    1542247  NKG Quality Service (a division of Bernhard Ro...  tylor winch   \n",
       "2          1                             Japan Coffee Exchange           non   \n",
       "\n",
       "  Harvest.Year     ICO.Number  ... Moisture   Color Category.One.Defects  \\\n",
       "0         2020            NaN  ...     11 %   None        0 full defects   \n",
       "1         2019  037-1673-5107  ...     11 %  Green        0 full defects   \n",
       "2         2020            NaN  ...     11 %  Green        0 full defects   \n",
       "\n",
       "  Category.Two.Defects Quakers           Expiration  \\\n",
       "0       0 full defects       0  September 1st, 2021   \n",
       "1       1 full defects       0   October 30th, 2021   \n",
       "2       4 full defects       3      July 14th, 2021   \n",
       "\n",
       "                                  Certification.Body  \\\n",
       "0  NKG Quality Service (a division of Bernhard Ro...   \n",
       "1  NKG Quality Service (a division of Bernhard Ro...   \n",
       "2                             Japan Coffee Exchange    \n",
       "\n",
       "                               Certification.Address  \\\n",
       "0           Bahnhofstrasse 22 6300 Zug, Switzerland    \n",
       "1           Bahnhofstrasse 22 6300 Zug, Switzerland    \n",
       "2  〒413-0002 静岡県熱海市伊豆山１１７３−５８　　　　　　　　 1173-58 Izu...   \n",
       "\n",
       "                     Certification.Contact  Species  \n",
       "0            Gloria Pedroza - +41417287296  Arabica  \n",
       "1            Gloria Pedroza - +41417287296  Arabica  \n",
       "2  松澤　宏樹　Koju Matsuzawa - +81(0)9085642901  Arabica  \n",
       "\n",
       "[3 rows x 41 columns]"
      ]
     },
     "execution_count": 392,
     "metadata": {},
     "output_type": "execute_result"
    }
   ],
   "source": [
    "# Add column Species and Unnamed: 0 which keeps an index \n",
    "arabica_df['Species'] = 'Arabica'\n",
    "robusta_df['Species'] = 'Robusta'\n",
    "arabica_df.index += 1313\n",
    "robusta_df.index += 29\n",
    "arabica_df.index.rename('Unnamed: 0', inplace=True)\n",
    "robusta_df.index.rename('Unnamed: 0', inplace=True)\n",
    "arabica_df.reset_index(inplace=True)\n",
    "robusta_df.reset_index(inplace=True)\n",
    "arabica_df.head(3)"
   ]
  },
  {
   "cell_type": "markdown",
   "metadata": {},
   "source": [
    "#### Create `altitude_low_meters`, `altitude_high_meters`, `altitude_mean_meters`\n",
    "Some of the values are very difficult to fix using regular expressions or an automated command, but besides 2 particular cases, we can use str methods to clean the column of altitude and get the values of the previously cleaned datasets to join them together."
   ]
  },
  {
   "cell_type": "code",
   "execution_count": 461,
   "metadata": {
    "ExecuteTime": {
     "end_time": "2021-04-24T04:03:16.434755Z",
     "start_time": "2021-04-24T04:03:16.406127Z"
    }
   },
   "outputs": [],
   "source": [
    "# 2 special cases to be cleaned\n",
    "arabica_df.loc[4,'Altitude']='1500-2100'\n",
    "arabica_df.loc[90,'Altitude']='1100'\n",
    "\n",
    "# use regex to clean data and split by - into two columns (low and high altitude)\n",
    "df = arabica_df.Altitude.str.strip().str.replace(',|\\.\\d*|\\+','').str.split('-', expand=True)\n",
    "df.columns = ['altitude_low_meters', 'altitude_high_meters']\n",
    "\n",
    "# make the None values in high column equal to the low column\n",
    "df.altitude_high_meters[pd.isna(df.altitude_high_meters)] = df.altitude_low_meters[pd.isna(df.altitude_high_meters)]\n",
    "df.altitude_low_meters[df.altitude_low_meters==''] = df.altitude_high_meters[df.altitude_low_meters=='']\n",
    "df['altitude_mean_meters'] = (df.altitude_low_meters.astype(int) + df.altitude_high_meters.astype(int))/2\n",
    "\n",
    "arabica_df = pd.concat([arabica_df, df], axis=1)"
   ]
  },
  {
   "cell_type": "code",
   "execution_count": 468,
   "metadata": {
    "ExecuteTime": {
     "end_time": "2021-04-24T05:54:56.925233Z",
     "start_time": "2021-04-24T05:54:56.915980Z"
    }
   },
   "outputs": [],
   "source": [
    "# No need to preprocess the Robusta Altitude column, just match the format of Arabica\n",
    "robusta_df.Altitude = robusta_df.Altitude.astype(int)\n",
    "robusta_df['altitude_low_meters'] = robusta_df['Altitude']\n",
    "robusta_df['altitude_high_meters'] = robusta_df['Altitude']\n",
    "robusta_df['altitude_mean_meters'] = robusta_df['Altitude']"
   ]
  },
  {
   "cell_type": "markdown",
   "metadata": {},
   "source": [
    "#### Remove extra columns in all datasets"
   ]
  },
  {
   "cell_type": "code",
   "execution_count": 493,
   "metadata": {
    "ExecuteTime": {
     "end_time": "2021-04-24T09:22:10.746748Z",
     "start_time": "2021-04-24T09:22:10.712153Z"
    }
   },
   "outputs": [],
   "source": [
    "# drop columns not present in previously cleaned data\n",
    "drop_cols = ['Status', 'Overall', 'Defects', 'Certification.Address',\n",
    "             'Certification.Contact']\n",
    "arabica_df.drop(drop_cols, axis=1, inplace=True)\n",
    "robusta_df.drop(drop_cols, axis=1, inplace=True)\n",
    "\n",
    "# drop columns not present in new scrapped data\n",
    "drop_cols2 = ['Owner.1', 'Cupper.Points', 'unit_of_measurement', 'Certification.Address',\n",
    "              'Certification.Contact']\n",
    "cleaned_arabica_df.drop(drop_cols2, axis=1, inplace=True)\n",
    "cleaned_robusta_df.drop(drop_cols2, axis=1, inplace=True)"
   ]
  },
  {
   "cell_type": "markdown",
   "metadata": {},
   "source": [
    "To be able to do the final join of all the datasets, it is necessary to rename the columns of the previously cleaned robusta data. The following columns will be renamed to match with the current convention for robusta and arabica. \n",
    "\n",
    "* Fragrance...Aroma -> Aroma  \n",
    "* Salt...Acid -> Acidity\n",
    "* Bitter...Sweet -> Sweetness\n",
    "* Mouthfeel -> Body\n",
    "* Uniform.Cup -> Uniformity"
   ]
  },
  {
   "cell_type": "code",
   "execution_count": 530,
   "metadata": {
    "ExecuteTime": {
     "end_time": "2021-04-24T09:48:37.635342Z",
     "start_time": "2021-04-24T09:48:37.626534Z"
    }
   },
   "outputs": [],
   "source": [
    "# rename columns in old robusta to match format of all datasets\n",
    "robusta_dict = {'Fragrance...Aroma':'Aroma',\n",
    "                'Salt...Acid':'Acidity', 'Mouthfeel':'Body',\n",
    "                'Bitter...Sweet':'Sweetness',\n",
    "                'Uniform.Cup':'Uniformity'}\n",
    "\n",
    "cleaned_robusta_df.rename(columns=robusta_dict, inplace=True)"
   ]
  },
  {
   "cell_type": "markdown",
   "metadata": {},
   "source": [
    "### Join all dataframes"
   ]
  },
  {
   "cell_type": "code",
   "execution_count": 536,
   "metadata": {
    "ExecuteTime": {
     "end_time": "2021-04-24T09:49:38.677827Z",
     "start_time": "2021-04-24T09:49:38.657358Z"
    }
   },
   "outputs": [],
   "source": [
    "# concatenate all dataframes by default outter, but all columns match with each other\n",
    "full_df = pd.concat([cleaned_arabica_df, arabica_df, \n",
    "           cleaned_robusta_df, robusta_df], \n",
    "         ignore_index=True, sort=False)"
   ]
  },
  {
   "cell_type": "code",
   "execution_count": 575,
   "metadata": {
    "ExecuteTime": {
     "end_time": "2021-04-24T10:15:42.879631Z",
     "start_time": "2021-04-24T10:15:42.868616Z"
    }
   },
   "outputs": [],
   "source": [
    "# Convert Moisture to float\n",
    "for i,val in enumerate(full_df.Moisture):\n",
    "    try:\n",
    "        float(val)\n",
    "    except:\n",
    "        full_df.loc[i,'Moisture'] = float(val.replace('%','').strip())/100\n",
    "        \n",
    "full_df.Moisture = full_df.Moisture.astype(float)"
   ]
  },
  {
   "cell_type": "code",
   "execution_count": 572,
   "metadata": {
    "ExecuteTime": {
     "end_time": "2021-04-24T10:14:35.692508Z",
     "start_time": "2021-04-24T10:14:35.602812Z"
    }
   },
   "outputs": [],
   "source": [
    "# Conver Category.One.Defects to int\n",
    "for i,val in enumerate(full_df['Category.One.Defects']):\n",
    "    try:\n",
    "        int(val)\n",
    "    except:\n",
    "        full_df.loc[i,'Category.One.Defects'] = int(val.replace('full defects','').strip())"
   ]
  },
  {
   "cell_type": "markdown",
   "metadata": {},
   "source": [
    "#### Checking numeric variables"
   ]
  },
  {
   "cell_type": "code",
   "execution_count": 577,
   "metadata": {
    "ExecuteTime": {
     "end_time": "2021-04-24T10:19:06.706697Z",
     "start_time": "2021-04-24T10:19:06.627253Z"
    }
   },
   "outputs": [
    {
     "data": {
      "text/html": [
       "<div>\n",
       "<style scoped>\n",
       "    .dataframe tbody tr th:only-of-type {\n",
       "        vertical-align: middle;\n",
       "    }\n",
       "\n",
       "    .dataframe tbody tr th {\n",
       "        vertical-align: top;\n",
       "    }\n",
       "\n",
       "    .dataframe thead th {\n",
       "        text-align: right;\n",
       "    }\n",
       "</style>\n",
       "<table border=\"1\" class=\"dataframe\">\n",
       "  <thead>\n",
       "    <tr style=\"text-align: right;\">\n",
       "      <th></th>\n",
       "      <th>Unnamed: 0</th>\n",
       "      <th>Number.of.Bags</th>\n",
       "      <th>Aroma</th>\n",
       "      <th>Flavor</th>\n",
       "      <th>Aftertaste</th>\n",
       "      <th>Acidity</th>\n",
       "      <th>Body</th>\n",
       "      <th>Balance</th>\n",
       "      <th>Uniformity</th>\n",
       "      <th>Clean.Cup</th>\n",
       "      <th>Sweetness</th>\n",
       "      <th>Total.Cup.Points</th>\n",
       "      <th>Moisture</th>\n",
       "      <th>Category.One.Defects</th>\n",
       "      <th>Quakers</th>\n",
       "      <th>altitude_mean_meters</th>\n",
       "    </tr>\n",
       "  </thead>\n",
       "  <tbody>\n",
       "    <tr>\n",
       "      <th>count</th>\n",
       "      <td>1477.000000</td>\n",
       "      <td>1477.000000</td>\n",
       "      <td>1477.000000</td>\n",
       "      <td>1477.000000</td>\n",
       "      <td>1477.000000</td>\n",
       "      <td>1477.000000</td>\n",
       "      <td>1477.000000</td>\n",
       "      <td>1477.000000</td>\n",
       "      <td>1477.000000</td>\n",
       "      <td>1477.000000</td>\n",
       "      <td>1477.000000</td>\n",
       "      <td>1477.000000</td>\n",
       "      <td>1477.000000</td>\n",
       "      <td>1477.000000</td>\n",
       "      <td>1476.000000</td>\n",
       "      <td>1247.000000</td>\n",
       "    </tr>\n",
       "    <tr>\n",
       "      <th>mean</th>\n",
       "      <td>704.918754</td>\n",
       "      <td>161.854435</td>\n",
       "      <td>7.574821</td>\n",
       "      <td>7.531774</td>\n",
       "      <td>7.407928</td>\n",
       "      <td>7.545166</td>\n",
       "      <td>7.527393</td>\n",
       "      <td>7.526242</td>\n",
       "      <td>9.841273</td>\n",
       "      <td>9.843290</td>\n",
       "      <td>9.856994</td>\n",
       "      <td>82.161381</td>\n",
       "      <td>0.090150</td>\n",
       "      <td>0.444144</td>\n",
       "      <td>0.266938</td>\n",
       "      <td>1732.473837</td>\n",
       "    </tr>\n",
       "    <tr>\n",
       "      <th>std</th>\n",
       "      <td>425.286918</td>\n",
       "      <td>135.952825</td>\n",
       "      <td>0.372236</td>\n",
       "      <td>0.393496</td>\n",
       "      <td>0.397649</td>\n",
       "      <td>0.374695</td>\n",
       "      <td>0.363753</td>\n",
       "      <td>0.400143</td>\n",
       "      <td>0.549402</td>\n",
       "      <td>0.740145</td>\n",
       "      <td>0.612304</td>\n",
       "      <td>3.447233</td>\n",
       "      <td>0.046726</td>\n",
       "      <td>2.433762</td>\n",
       "      <td>1.076978</td>\n",
       "      <td>8176.221765</td>\n",
       "    </tr>\n",
       "    <tr>\n",
       "      <th>min</th>\n",
       "      <td>1.000000</td>\n",
       "      <td>0.000000</td>\n",
       "      <td>0.000000</td>\n",
       "      <td>0.000000</td>\n",
       "      <td>0.000000</td>\n",
       "      <td>0.000000</td>\n",
       "      <td>0.000000</td>\n",
       "      <td>0.000000</td>\n",
       "      <td>0.000000</td>\n",
       "      <td>0.000000</td>\n",
       "      <td>0.000000</td>\n",
       "      <td>0.000000</td>\n",
       "      <td>0.000000</td>\n",
       "      <td>0.000000</td>\n",
       "      <td>0.000000</td>\n",
       "      <td>1.000000</td>\n",
       "    </tr>\n",
       "    <tr>\n",
       "      <th>25%</th>\n",
       "      <td>335.000000</td>\n",
       "      <td>16.000000</td>\n",
       "      <td>7.420000</td>\n",
       "      <td>7.330000</td>\n",
       "      <td>7.250000</td>\n",
       "      <td>7.330000</td>\n",
       "      <td>7.330000</td>\n",
       "      <td>7.330000</td>\n",
       "      <td>10.000000</td>\n",
       "      <td>10.000000</td>\n",
       "      <td>10.000000</td>\n",
       "      <td>81.170000</td>\n",
       "      <td>0.100000</td>\n",
       "      <td>0.000000</td>\n",
       "      <td>0.000000</td>\n",
       "      <td>1100.000000</td>\n",
       "    </tr>\n",
       "    <tr>\n",
       "      <th>50%</th>\n",
       "      <td>704.000000</td>\n",
       "      <td>200.000000</td>\n",
       "      <td>7.580000</td>\n",
       "      <td>7.580000</td>\n",
       "      <td>7.420000</td>\n",
       "      <td>7.580000</td>\n",
       "      <td>7.500000</td>\n",
       "      <td>7.500000</td>\n",
       "      <td>10.000000</td>\n",
       "      <td>10.000000</td>\n",
       "      <td>10.000000</td>\n",
       "      <td>82.580000</td>\n",
       "      <td>0.110000</td>\n",
       "      <td>0.000000</td>\n",
       "      <td>0.000000</td>\n",
       "      <td>1325.000000</td>\n",
       "    </tr>\n",
       "    <tr>\n",
       "      <th>75%</th>\n",
       "      <td>1073.000000</td>\n",
       "      <td>275.000000</td>\n",
       "      <td>7.750000</td>\n",
       "      <td>7.750000</td>\n",
       "      <td>7.670000</td>\n",
       "      <td>7.750000</td>\n",
       "      <td>7.750000</td>\n",
       "      <td>7.750000</td>\n",
       "      <td>10.000000</td>\n",
       "      <td>10.000000</td>\n",
       "      <td>10.000000</td>\n",
       "      <td>83.670000</td>\n",
       "      <td>0.120000</td>\n",
       "      <td>0.000000</td>\n",
       "      <td>0.000000</td>\n",
       "      <td>1600.000000</td>\n",
       "    </tr>\n",
       "    <tr>\n",
       "      <th>max</th>\n",
       "      <td>1443.000000</td>\n",
       "      <td>1280.000000</td>\n",
       "      <td>8.750000</td>\n",
       "      <td>8.830000</td>\n",
       "      <td>8.670000</td>\n",
       "      <td>8.750000</td>\n",
       "      <td>8.580000</td>\n",
       "      <td>8.750000</td>\n",
       "      <td>10.000000</td>\n",
       "      <td>10.000000</td>\n",
       "      <td>10.000000</td>\n",
       "      <td>90.580000</td>\n",
       "      <td>0.280000</td>\n",
       "      <td>63.000000</td>\n",
       "      <td>18.000000</td>\n",
       "      <td>190164.000000</td>\n",
       "    </tr>\n",
       "  </tbody>\n",
       "</table>\n",
       "</div>"
      ],
      "text/plain": [
       "        Unnamed: 0  Number.of.Bags        Aroma       Flavor   Aftertaste  \\\n",
       "count  1477.000000     1477.000000  1477.000000  1477.000000  1477.000000   \n",
       "mean    704.918754      161.854435     7.574821     7.531774     7.407928   \n",
       "std     425.286918      135.952825     0.372236     0.393496     0.397649   \n",
       "min       1.000000        0.000000     0.000000     0.000000     0.000000   \n",
       "25%     335.000000       16.000000     7.420000     7.330000     7.250000   \n",
       "50%     704.000000      200.000000     7.580000     7.580000     7.420000   \n",
       "75%    1073.000000      275.000000     7.750000     7.750000     7.670000   \n",
       "max    1443.000000     1280.000000     8.750000     8.830000     8.670000   \n",
       "\n",
       "           Acidity         Body      Balance   Uniformity    Clean.Cup  \\\n",
       "count  1477.000000  1477.000000  1477.000000  1477.000000  1477.000000   \n",
       "mean      7.545166     7.527393     7.526242     9.841273     9.843290   \n",
       "std       0.374695     0.363753     0.400143     0.549402     0.740145   \n",
       "min       0.000000     0.000000     0.000000     0.000000     0.000000   \n",
       "25%       7.330000     7.330000     7.330000    10.000000    10.000000   \n",
       "50%       7.580000     7.500000     7.500000    10.000000    10.000000   \n",
       "75%       7.750000     7.750000     7.750000    10.000000    10.000000   \n",
       "max       8.750000     8.580000     8.750000    10.000000    10.000000   \n",
       "\n",
       "         Sweetness  Total.Cup.Points     Moisture  Category.One.Defects  \\\n",
       "count  1477.000000       1477.000000  1477.000000           1477.000000   \n",
       "mean      9.856994         82.161381     0.090150              0.444144   \n",
       "std       0.612304          3.447233     0.046726              2.433762   \n",
       "min       0.000000          0.000000     0.000000              0.000000   \n",
       "25%      10.000000         81.170000     0.100000              0.000000   \n",
       "50%      10.000000         82.580000     0.110000              0.000000   \n",
       "75%      10.000000         83.670000     0.120000              0.000000   \n",
       "max      10.000000         90.580000     0.280000             63.000000   \n",
       "\n",
       "           Quakers  altitude_mean_meters  \n",
       "count  1476.000000           1247.000000  \n",
       "mean      0.266938           1732.473837  \n",
       "std       1.076978           8176.221765  \n",
       "min       0.000000              1.000000  \n",
       "25%       0.000000           1100.000000  \n",
       "50%       0.000000           1325.000000  \n",
       "75%       0.000000           1600.000000  \n",
       "max      18.000000         190164.000000  "
      ]
     },
     "execution_count": 577,
     "metadata": {},
     "output_type": "execute_result"
    }
   ],
   "source": [
    "full_df.describe()"
   ]
  },
  {
   "cell_type": "markdown",
   "metadata": {},
   "source": [
    "Above we observe that `altitude_mean_meters` has an unrealistic max value which can greatly affect distance based clustering methods. For this reason, the model will focus on records below 5000, assuming that this is an error in the scale or imputation."
   ]
  },
  {
   "cell_type": "code",
   "execution_count": 588,
   "metadata": {
    "ExecuteTime": {
     "end_time": "2021-04-24T11:07:39.033040Z",
     "start_time": "2021-04-24T11:07:39.022224Z"
    }
   },
   "outputs": [],
   "source": [
    "full_df = full_df[full_df['altitude_mean_meters']<5000].copy()"
   ]
  },
  {
   "cell_type": "code",
   "execution_count": 1009,
   "metadata": {
    "ExecuteTime": {
     "end_time": "2021-04-26T00:47:41.938971Z",
     "start_time": "2021-04-26T00:47:41.669590Z"
    }
   },
   "outputs": [],
   "source": [
    "full_df.to_csv('arabica_robusta_cleaned.csv', index=False)"
   ]
  },
  {
   "cell_type": "code",
   "execution_count": null,
   "metadata": {},
   "outputs": [],
   "source": []
  }
 ],
 "metadata": {
  "kernelspec": {
   "display_name": "Python 3",
   "language": "python",
   "name": "python3"
  },
  "language_info": {
   "codemirror_mode": {
    "name": "ipython",
    "version": 3
   },
   "file_extension": ".py",
   "mimetype": "text/x-python",
   "name": "python",
   "nbconvert_exporter": "python",
   "pygments_lexer": "ipython3",
   "version": "3.7.1"
  },
  "toc": {
   "base_numbering": 1,
   "nav_menu": {},
   "number_sections": true,
   "sideBar": true,
   "skip_h1_title": false,
   "title_cell": "Table of Contents",
   "title_sidebar": "Contents",
   "toc_cell": false,
   "toc_position": {
    "height": "calc(100% - 180px)",
    "left": "10px",
    "top": "150px",
    "width": "254.2px"
   },
   "toc_section_display": true,
   "toc_window_display": true
  }
 },
 "nbformat": 4,
 "nbformat_minor": 4
}
